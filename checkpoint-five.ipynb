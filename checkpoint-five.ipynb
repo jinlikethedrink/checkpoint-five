{
 "cells": [
  {
   "cell_type": "markdown",
   "metadata": {
    "azdata_cell_guid": "c9a57f69-e372-43d2-94fc-ab1a9097069f"
   },
   "source": [
    "# Checkpoint Five: Modeling Data\n",
    "\n",
    "With your visualizations ready to go, the final step in your project is to do some predictive analysis on your dataset. You will be using linear regression for your model. You will not be penalized if your linear regression model does not work out. You just need to build the model and make notes as to the results.\n",
    "\n",
    "Link to my dataset: Please find \"DataAnalyst_v3\" in the repository\n",
    "\n",
    "## Prepare Your Dataframe\n",
    "\n",
    "Import any libraries you need and create a dataframe."
   ]
  },
  {
   "cell_type": "code",
   "execution_count": 71,
   "metadata": {
    "azdata_cell_guid": "f9287db4-8af9-4bce-9a54-ffeeee0e045f"
   },
   "outputs": [],
   "source": [
    "# Import pacakges\n",
    "import pandas as pd\n",
    "import matplotlib.pyplot as plt\n",
    "import seaborn as sns\n",
    "import numpy as np\n",
    "%matplotlib inline\n",
    "\n",
    "# Suppress warnings\n",
    "import warnings\n",
    "warnings.filterwarnings('ignore')"
   ]
  },
  {
   "cell_type": "code",
   "execution_count": 72,
   "metadata": {},
   "outputs": [],
   "source": [
    "# I made more calculated columns during the last assignment in Tableau. \n",
    "# This is the updated version, which is exported from Tableau. \n",
    "df = pd.read_csv(\"DataAnalyst_v3.csv\")"
   ]
  },
  {
   "cell_type": "code",
   "execution_count": 73,
   "metadata": {},
   "outputs": [
    {
     "data": {
      "text/html": [
       "<div>\n",
       "<style scoped>\n",
       "    .dataframe tbody tr th:only-of-type {\n",
       "        vertical-align: middle;\n",
       "    }\n",
       "\n",
       "    .dataframe tbody tr th {\n",
       "        vertical-align: top;\n",
       "    }\n",
       "\n",
       "    .dataframe thead th {\n",
       "        text-align: right;\n",
       "    }\n",
       "</style>\n",
       "<table border=\"1\" class=\"dataframe\">\n",
       "  <thead>\n",
       "    <tr style=\"text-align: right;\">\n",
       "      <th></th>\n",
       "      <th>City</th>\n",
       "      <th>Est. Salary Range</th>\n",
       "      <th>Industry</th>\n",
       "      <th>Industry T/F</th>\n",
       "      <th>Location</th>\n",
       "      <th>Max(txt)</th>\n",
       "      <th>Min(txt)</th>\n",
       "      <th>State</th>\n",
       "      <th>State(DNU)</th>\n",
       "      <th>Avg. Salary</th>\n",
       "      <th>Count City in Max Salary</th>\n",
       "      <th>Count City in Min Salary</th>\n",
       "      <th>Index</th>\n",
       "      <th>Max</th>\n",
       "      <th>Min</th>\n",
       "    </tr>\n",
       "  </thead>\n",
       "  <tbody>\n",
       "    <tr>\n",
       "      <th>0</th>\n",
       "      <td>New York</td>\n",
       "      <td>$37K-$66K</td>\n",
       "      <td>Social Assistance</td>\n",
       "      <td>t</td>\n",
       "      <td>New York, NY</td>\n",
       "      <td>$66K</td>\n",
       "      <td>$37K</td>\n",
       "      <td>NY</td>\n",
       "      <td>NY</td>\n",
       "      <td>$51,500.00</td>\n",
       "      <td>0</td>\n",
       "      <td>0</td>\n",
       "      <td>0</td>\n",
       "      <td>$66,000.00</td>\n",
       "      <td>$37,000.00</td>\n",
       "    </tr>\n",
       "    <tr>\n",
       "      <th>1</th>\n",
       "      <td>New York</td>\n",
       "      <td>$37K-$66K</td>\n",
       "      <td>Health Care Services &amp; Hospitals</td>\n",
       "      <td>t</td>\n",
       "      <td>New York, NY</td>\n",
       "      <td>$66K</td>\n",
       "      <td>$37K</td>\n",
       "      <td>NY</td>\n",
       "      <td>NY</td>\n",
       "      <td>$51,500.00</td>\n",
       "      <td>0</td>\n",
       "      <td>0</td>\n",
       "      <td>1</td>\n",
       "      <td>$66,000.00</td>\n",
       "      <td>$37,000.00</td>\n",
       "    </tr>\n",
       "    <tr>\n",
       "      <th>2</th>\n",
       "      <td>New York</td>\n",
       "      <td>$37K-$66K</td>\n",
       "      <td>Internet</td>\n",
       "      <td>t</td>\n",
       "      <td>New York, NY</td>\n",
       "      <td>$66K</td>\n",
       "      <td>$37K</td>\n",
       "      <td>NY</td>\n",
       "      <td>NY</td>\n",
       "      <td>$51,500.00</td>\n",
       "      <td>0</td>\n",
       "      <td>0</td>\n",
       "      <td>2</td>\n",
       "      <td>$66,000.00</td>\n",
       "      <td>$37,000.00</td>\n",
       "    </tr>\n",
       "    <tr>\n",
       "      <th>3</th>\n",
       "      <td>New York</td>\n",
       "      <td>$37K-$66K</td>\n",
       "      <td>IT Services</td>\n",
       "      <td>t</td>\n",
       "      <td>New York, NY</td>\n",
       "      <td>$66K</td>\n",
       "      <td>$37K</td>\n",
       "      <td>NY</td>\n",
       "      <td>NY</td>\n",
       "      <td>$51,500.00</td>\n",
       "      <td>0</td>\n",
       "      <td>0</td>\n",
       "      <td>3</td>\n",
       "      <td>$66,000.00</td>\n",
       "      <td>$37,000.00</td>\n",
       "    </tr>\n",
       "    <tr>\n",
       "      <th>4</th>\n",
       "      <td>New York</td>\n",
       "      <td>$37K-$66K</td>\n",
       "      <td>Sports &amp; Recreation</td>\n",
       "      <td>t</td>\n",
       "      <td>New York, NY</td>\n",
       "      <td>$66K</td>\n",
       "      <td>$37K</td>\n",
       "      <td>NY</td>\n",
       "      <td>NY</td>\n",
       "      <td>$51,500.00</td>\n",
       "      <td>0</td>\n",
       "      <td>0</td>\n",
       "      <td>4</td>\n",
       "      <td>$66,000.00</td>\n",
       "      <td>$37,000.00</td>\n",
       "    </tr>\n",
       "  </tbody>\n",
       "</table>\n",
       "</div>"
      ],
      "text/plain": [
       "       City Est. Salary Range                          Industry Industry T/F  \\\n",
       "0  New York         $37K-$66K                 Social Assistance            t   \n",
       "1  New York         $37K-$66K  Health Care Services & Hospitals            t   \n",
       "2  New York         $37K-$66K                          Internet            t   \n",
       "3  New York         $37K-$66K                       IT Services            t   \n",
       "4  New York         $37K-$66K               Sports & Recreation            t   \n",
       "\n",
       "       Location Max(txt) Min(txt) State State(DNU) Avg. Salary  \\\n",
       "0  New York, NY     $66K     $37K    NY         NY  $51,500.00   \n",
       "1  New York, NY     $66K     $37K    NY         NY  $51,500.00   \n",
       "2  New York, NY     $66K     $37K    NY         NY  $51,500.00   \n",
       "3  New York, NY     $66K     $37K    NY         NY  $51,500.00   \n",
       "4  New York, NY     $66K     $37K    NY         NY  $51,500.00   \n",
       "\n",
       "   Count City in Max Salary  Count City in Min Salary  Index         Max  \\\n",
       "0                         0                         0      0  $66,000.00   \n",
       "1                         0                         0      1  $66,000.00   \n",
       "2                         0                         0      2  $66,000.00   \n",
       "3                         0                         0      3  $66,000.00   \n",
       "4                         0                         0      4  $66,000.00   \n",
       "\n",
       "          Min  \n",
       "0  $37,000.00  \n",
       "1  $37,000.00  \n",
       "2  $37,000.00  \n",
       "3  $37,000.00  \n",
       "4  $37,000.00  "
      ]
     },
     "execution_count": 73,
     "metadata": {},
     "output_type": "execute_result"
    }
   ],
   "source": [
    "df.head()"
   ]
  },
  {
   "cell_type": "code",
   "execution_count": 74,
   "metadata": {},
   "outputs": [],
   "source": [
    "# I skimmed through below and decided in advance what I'd like to see\n",
    "# I'd like to see correlation between the average salary and count of jobs listed per that average salary.\n",
    "# \"What level of salary do employers seek the most when hiring Data Analysts?\"\n",
    "\n",
    "# I'm going to use one column, Average Salary, and I can get its count. \n",
    "\n",
    "# Let's trim the column so that I cant treat it as numbers.\n",
    "\n",
    "df['Avg. Salary']=(df['Avg. Salary'].replace( '[\\$,)]','', regex=True ).replace( '[(]','-',   regex=True ).astype(float))"
   ]
  },
  {
   "cell_type": "code",
   "execution_count": 75,
   "metadata": {},
   "outputs": [
    {
     "data": {
      "text/html": [
       "<div>\n",
       "<style scoped>\n",
       "    .dataframe tbody tr th:only-of-type {\n",
       "        vertical-align: middle;\n",
       "    }\n",
       "\n",
       "    .dataframe tbody tr th {\n",
       "        vertical-align: top;\n",
       "    }\n",
       "\n",
       "    .dataframe thead th {\n",
       "        text-align: right;\n",
       "    }\n",
       "</style>\n",
       "<table border=\"1\" class=\"dataframe\">\n",
       "  <thead>\n",
       "    <tr style=\"text-align: right;\">\n",
       "      <th></th>\n",
       "      <th>City</th>\n",
       "      <th>Est. Salary Range</th>\n",
       "      <th>Industry</th>\n",
       "      <th>Industry T/F</th>\n",
       "      <th>Location</th>\n",
       "      <th>Max(txt)</th>\n",
       "      <th>Min(txt)</th>\n",
       "      <th>State</th>\n",
       "      <th>State(DNU)</th>\n",
       "      <th>Avg. Salary</th>\n",
       "      <th>Count City in Max Salary</th>\n",
       "      <th>Count City in Min Salary</th>\n",
       "      <th>Index</th>\n",
       "      <th>Max</th>\n",
       "      <th>Min</th>\n",
       "    </tr>\n",
       "  </thead>\n",
       "  <tbody>\n",
       "    <tr>\n",
       "      <th>0</th>\n",
       "      <td>New York</td>\n",
       "      <td>$37K-$66K</td>\n",
       "      <td>Social Assistance</td>\n",
       "      <td>t</td>\n",
       "      <td>New York, NY</td>\n",
       "      <td>$66K</td>\n",
       "      <td>$37K</td>\n",
       "      <td>NY</td>\n",
       "      <td>NY</td>\n",
       "      <td>51500.0</td>\n",
       "      <td>0</td>\n",
       "      <td>0</td>\n",
       "      <td>0</td>\n",
       "      <td>$66,000.00</td>\n",
       "      <td>$37,000.00</td>\n",
       "    </tr>\n",
       "    <tr>\n",
       "      <th>1</th>\n",
       "      <td>New York</td>\n",
       "      <td>$37K-$66K</td>\n",
       "      <td>Health Care Services &amp; Hospitals</td>\n",
       "      <td>t</td>\n",
       "      <td>New York, NY</td>\n",
       "      <td>$66K</td>\n",
       "      <td>$37K</td>\n",
       "      <td>NY</td>\n",
       "      <td>NY</td>\n",
       "      <td>51500.0</td>\n",
       "      <td>0</td>\n",
       "      <td>0</td>\n",
       "      <td>1</td>\n",
       "      <td>$66,000.00</td>\n",
       "      <td>$37,000.00</td>\n",
       "    </tr>\n",
       "    <tr>\n",
       "      <th>2</th>\n",
       "      <td>New York</td>\n",
       "      <td>$37K-$66K</td>\n",
       "      <td>Internet</td>\n",
       "      <td>t</td>\n",
       "      <td>New York, NY</td>\n",
       "      <td>$66K</td>\n",
       "      <td>$37K</td>\n",
       "      <td>NY</td>\n",
       "      <td>NY</td>\n",
       "      <td>51500.0</td>\n",
       "      <td>0</td>\n",
       "      <td>0</td>\n",
       "      <td>2</td>\n",
       "      <td>$66,000.00</td>\n",
       "      <td>$37,000.00</td>\n",
       "    </tr>\n",
       "  </tbody>\n",
       "</table>\n",
       "</div>"
      ],
      "text/plain": [
       "       City Est. Salary Range                          Industry Industry T/F  \\\n",
       "0  New York         $37K-$66K                 Social Assistance            t   \n",
       "1  New York         $37K-$66K  Health Care Services & Hospitals            t   \n",
       "2  New York         $37K-$66K                          Internet            t   \n",
       "\n",
       "       Location Max(txt) Min(txt) State State(DNU)  Avg. Salary  \\\n",
       "0  New York, NY     $66K     $37K    NY         NY      51500.0   \n",
       "1  New York, NY     $66K     $37K    NY         NY      51500.0   \n",
       "2  New York, NY     $66K     $37K    NY         NY      51500.0   \n",
       "\n",
       "   Count City in Max Salary  Count City in Min Salary  Index         Max  \\\n",
       "0                         0                         0      0  $66,000.00   \n",
       "1                         0                         0      1  $66,000.00   \n",
       "2                         0                         0      2  $66,000.00   \n",
       "\n",
       "          Min  \n",
       "0  $37,000.00  \n",
       "1  $37,000.00  \n",
       "2  $37,000.00  "
      ]
     },
     "execution_count": 75,
     "metadata": {},
     "output_type": "execute_result"
    }
   ],
   "source": [
    "df.head(3)"
   ]
  },
  {
   "cell_type": "code",
   "execution_count": 89,
   "metadata": {},
   "outputs": [
    {
     "data": {
      "text/html": [
       "<div>\n",
       "<style scoped>\n",
       "    .dataframe tbody tr th:only-of-type {\n",
       "        vertical-align: middle;\n",
       "    }\n",
       "\n",
       "    .dataframe tbody tr th {\n",
       "        vertical-align: top;\n",
       "    }\n",
       "\n",
       "    .dataframe thead th {\n",
       "        text-align: right;\n",
       "    }\n",
       "</style>\n",
       "<table border=\"1\" class=\"dataframe\">\n",
       "  <thead>\n",
       "    <tr style=\"text-align: right;\">\n",
       "      <th></th>\n",
       "      <th>Count of Jobs Listed</th>\n",
       "    </tr>\n",
       "  </thead>\n",
       "  <tbody>\n",
       "    <tr>\n",
       "      <th>59500.0</th>\n",
       "      <td>88</td>\n",
       "    </tr>\n",
       "    <tr>\n",
       "      <th>72000.0</th>\n",
       "      <td>81</td>\n",
       "    </tr>\n",
       "    <tr>\n",
       "      <th>68000.0</th>\n",
       "      <td>68</td>\n",
       "    </tr>\n",
       "    <tr>\n",
       "      <th>63000.0</th>\n",
       "      <td>58</td>\n",
       "    </tr>\n",
       "    <tr>\n",
       "      <th>59000.0</th>\n",
       "      <td>57</td>\n",
       "    </tr>\n",
       "    <tr>\n",
       "      <th>...</th>\n",
       "      <td>...</td>\n",
       "    </tr>\n",
       "    <tr>\n",
       "      <th>42000.0</th>\n",
       "      <td>8</td>\n",
       "    </tr>\n",
       "    <tr>\n",
       "      <th>44000.0</th>\n",
       "      <td>4</td>\n",
       "    </tr>\n",
       "    <tr>\n",
       "      <th>45000.0</th>\n",
       "      <td>4</td>\n",
       "    </tr>\n",
       "    <tr>\n",
       "      <th>60000.0</th>\n",
       "      <td>3</td>\n",
       "    </tr>\n",
       "    <tr>\n",
       "      <th>64000.0</th>\n",
       "      <td>3</td>\n",
       "    </tr>\n",
       "  </tbody>\n",
       "</table>\n",
       "<p>73 rows × 1 columns</p>\n",
       "</div>"
      ],
      "text/plain": [
       "         Count of Jobs Listed\n",
       "59500.0                    88\n",
       "72000.0                    81\n",
       "68000.0                    68\n",
       "63000.0                    58\n",
       "59000.0                    57\n",
       "...                       ...\n",
       "42000.0                     8\n",
       "44000.0                     4\n",
       "45000.0                     4\n",
       "60000.0                     3\n",
       "64000.0                     3\n",
       "\n",
       "[73 rows x 1 columns]"
      ]
     },
     "execution_count": 89,
     "metadata": {},
     "output_type": "execute_result"
    }
   ],
   "source": [
    "# Count of Avg.Salary shows how many jobs listed in that salary.\n",
    "\n",
    "df_v2 = df['Avg. Salary'].value_counts().to_frame('Count of Jobs Listed')\n",
    "df_v2\n"
   ]
  },
  {
   "cell_type": "code",
   "execution_count": 96,
   "metadata": {},
   "outputs": [],
   "source": [
    "# Salary became index, need to name it.\n",
    "\n",
    "df_v2.index.name = 'Average Salary'"
   ]
  },
  {
   "cell_type": "code",
   "execution_count": 97,
   "metadata": {},
   "outputs": [
    {
     "data": {
      "text/html": [
       "<div>\n",
       "<style scoped>\n",
       "    .dataframe tbody tr th:only-of-type {\n",
       "        vertical-align: middle;\n",
       "    }\n",
       "\n",
       "    .dataframe tbody tr th {\n",
       "        vertical-align: top;\n",
       "    }\n",
       "\n",
       "    .dataframe thead th {\n",
       "        text-align: right;\n",
       "    }\n",
       "</style>\n",
       "<table border=\"1\" class=\"dataframe\">\n",
       "  <thead>\n",
       "    <tr style=\"text-align: right;\">\n",
       "      <th></th>\n",
       "      <th>Average Salary</th>\n",
       "      <th>Count of Jobs Listed</th>\n",
       "    </tr>\n",
       "  </thead>\n",
       "  <tbody>\n",
       "    <tr>\n",
       "      <th>0</th>\n",
       "      <td>59500.0</td>\n",
       "      <td>88</td>\n",
       "    </tr>\n",
       "    <tr>\n",
       "      <th>1</th>\n",
       "      <td>72000.0</td>\n",
       "      <td>81</td>\n",
       "    </tr>\n",
       "    <tr>\n",
       "      <th>2</th>\n",
       "      <td>68000.0</td>\n",
       "      <td>68</td>\n",
       "    </tr>\n",
       "    <tr>\n",
       "      <th>3</th>\n",
       "      <td>63000.0</td>\n",
       "      <td>58</td>\n",
       "    </tr>\n",
       "    <tr>\n",
       "      <th>4</th>\n",
       "      <td>59000.0</td>\n",
       "      <td>57</td>\n",
       "    </tr>\n",
       "    <tr>\n",
       "      <th>...</th>\n",
       "      <td>...</td>\n",
       "      <td>...</td>\n",
       "    </tr>\n",
       "    <tr>\n",
       "      <th>68</th>\n",
       "      <td>42000.0</td>\n",
       "      <td>8</td>\n",
       "    </tr>\n",
       "    <tr>\n",
       "      <th>69</th>\n",
       "      <td>44000.0</td>\n",
       "      <td>4</td>\n",
       "    </tr>\n",
       "    <tr>\n",
       "      <th>70</th>\n",
       "      <td>45000.0</td>\n",
       "      <td>4</td>\n",
       "    </tr>\n",
       "    <tr>\n",
       "      <th>71</th>\n",
       "      <td>60000.0</td>\n",
       "      <td>3</td>\n",
       "    </tr>\n",
       "    <tr>\n",
       "      <th>72</th>\n",
       "      <td>64000.0</td>\n",
       "      <td>3</td>\n",
       "    </tr>\n",
       "  </tbody>\n",
       "</table>\n",
       "<p>73 rows × 2 columns</p>\n",
       "</div>"
      ],
      "text/plain": [
       "    Average Salary  Count of Jobs Listed\n",
       "0          59500.0                    88\n",
       "1          72000.0                    81\n",
       "2          68000.0                    68\n",
       "3          63000.0                    58\n",
       "4          59000.0                    57\n",
       "..             ...                   ...\n",
       "68         42000.0                     8\n",
       "69         44000.0                     4\n",
       "70         45000.0                     4\n",
       "71         60000.0                     3\n",
       "72         64000.0                     3\n",
       "\n",
       "[73 rows x 2 columns]"
      ]
     },
     "execution_count": 97,
     "metadata": {},
     "output_type": "execute_result"
    }
   ],
   "source": [
    "# New dataframe I'm going to use for next steps.\n",
    "\n",
    "df_v3 = df_v2.reset_index()\n",
    "df_v3"
   ]
  },
  {
   "cell_type": "markdown",
   "metadata": {
    "azdata_cell_guid": "d794ffe0-9cd3-4812-bc7d-f75460cf611c"
   },
   "source": [
    "## Find Correlations\n",
    "\n",
    "Use either pairplot or a heatmap or both to find the two variables with the strongest correlation in your dataset."
   ]
  },
  {
   "cell_type": "code",
   "execution_count": 98,
   "metadata": {},
   "outputs": [
    {
     "data": {
      "image/png": "[encoded data removed]",
      "text/plain": [
       "<Figure size 288x288 with 1 Axes>"
      ]
     },
     "metadata": {
      "needs_background": "light"
     },
     "output_type": "display_data"
    }
   ],
   "source": [
    "#pairplot\n",
    "sns.pairplot(df_v3, x_vars='Average Salary',\n",
    "                y_vars='Count of Jobs Listed', size=4, aspect=1, kind='scatter')\n",
    "plt.show()"
   ]
  },
  {
   "cell_type": "code",
   "execution_count": 99,
   "metadata": {},
   "outputs": [
    {
     "data": {
      "text/html": [
       "<div>\n",
       "<style scoped>\n",
       "    .dataframe tbody tr th:only-of-type {\n",
       "        vertical-align: middle;\n",
       "    }\n",
       "\n",
       "    .dataframe tbody tr th {\n",
       "        vertical-align: top;\n",
       "    }\n",
       "\n",
       "    .dataframe thead th {\n",
       "        text-align: right;\n",
       "    }\n",
       "</style>\n",
       "<table border=\"1\" class=\"dataframe\">\n",
       "  <thead>\n",
       "    <tr style=\"text-align: right;\">\n",
       "      <th></th>\n",
       "      <th>Average Salary</th>\n",
       "      <th>Count of Jobs Listed</th>\n",
       "    </tr>\n",
       "  </thead>\n",
       "  <tbody>\n",
       "    <tr>\n",
       "      <th>Average Salary</th>\n",
       "      <td>1.000000</td>\n",
       "      <td>-0.014673</td>\n",
       "    </tr>\n",
       "    <tr>\n",
       "      <th>Count of Jobs Listed</th>\n",
       "      <td>-0.014673</td>\n",
       "      <td>1.000000</td>\n",
       "    </tr>\n",
       "  </tbody>\n",
       "</table>\n",
       "</div>"
      ],
      "text/plain": [
       "                      Average Salary  Count of Jobs Listed\n",
       "Average Salary              1.000000             -0.014673\n",
       "Count of Jobs Listed       -0.014673              1.000000"
      ]
     },
     "execution_count": 99,
     "metadata": {},
     "output_type": "execute_result"
    }
   ],
   "source": [
    "#correlation\n",
    "df_v3.corr()"
   ]
  },
  {
   "cell_type": "code",
   "execution_count": 100,
   "metadata": {},
   "outputs": [
    {
     "data": {
      "text/plain": [
       "<AxesSubplot:>"
      ]
     },
     "execution_count": 100,
     "metadata": {},
     "output_type": "execute_result"
    },
    {
     "data": {
      "image/png": "[encoded data removed]",
      "text/plain": [
       "<Figure size 432x288 with 2 Axes>"
      ]
     },
     "metadata": {
      "needs_background": "light"
     },
     "output_type": "display_data"
    }
   ],
   "source": [
    "#heatmap\n",
    "sns.heatmap(df_v3.corr(), cmap='coolwarm', annot=True)"
   ]
  },
  {
   "cell_type": "markdown",
   "metadata": {
    "azdata_cell_guid": "b75b6098-4152-4701-9136-a8f774c8583e"
   },
   "source": [
    "## Create Your Model\n",
    "\n",
    "Use the two columns with the strongest correlation to create and train your model. Make sure to print out the summary and plot the column values and the line produced by the model."
   ]
  },
  {
   "cell_type": "code",
   "execution_count": 103,
   "metadata": {
    "azdata_cell_guid": "05ecd9c7-e4a4-4d5c-b092-3dff597e96a3"
   },
   "outputs": [],
   "source": [
    "# Creating X and y\n",
    "# X = Average Salary (IV)\n",
    "# y = Count of Jobs Listed (DV)\n",
    "\n",
    "X = df_v3['Average Salary']\n",
    "y = df_v3['Count of Jobs Listed']"
   ]
  },
  {
   "cell_type": "code",
   "execution_count": 104,
   "metadata": {
    "azdata_cell_guid": "f55fbe86-74b8-44f7-af96-7448e58983d7",
    "tags": []
   },
   "outputs": [],
   "source": [
    "# Splitting the varaibles as training and testing\n",
    "from sklearn.model_selection import train_test_split\n",
    "X_train, X_test, y_train, y_test = train_test_split(X, y, train_size = 0.7, \n",
    "                                                    test_size = 0.3, random_state = 100)"
   ]
  },
  {
   "cell_type": "code",
   "execution_count": 106,
   "metadata": {},
   "outputs": [
    {
     "data": {
      "text/plain": [
       "21     69500.0\n",
       "45     73000.0\n",
       "0      59500.0\n",
       "18     63500.0\n",
       "12     61500.0\n",
       "6      40000.0\n",
       "47    138500.0\n",
       "38     79500.0\n",
       "60     89500.0\n",
       "37     73500.0\n",
       "35     68500.0\n",
       "58     76000.0\n",
       "46     64500.0\n",
       "30     88500.0\n",
       "66     61000.0\n",
       "57     60500.0\n",
       "41     80000.0\n",
       "65    100000.0\n",
       "62     87000.0\n",
       "7      78500.0\n",
       "3      63000.0\n",
       "70     45000.0\n",
       "50     92500.0\n",
       "59    126000.0\n",
       "19     54000.0\n",
       "13     52500.0\n",
       "1      72000.0\n",
       "31     36000.0\n",
       "4      59000.0\n",
       "44     36500.0\n",
       "27    106000.0\n",
       "2      68000.0\n",
       "22     39500.0\n",
       "29     66000.0\n",
       "9      77500.0\n",
       "16     92000.0\n",
       "43     79000.0\n",
       "36     33500.0\n",
       "15     51000.0\n",
       "71     60000.0\n",
       "69     44000.0\n",
       "49     74000.0\n",
       "34     40500.0\n",
       "14     51500.0\n",
       "53     70000.0\n",
       "52     98500.0\n",
       "10     80500.0\n",
       "48    120000.0\n",
       "67     57000.0\n",
       "24    113000.0\n",
       "8      56000.0\n",
       "Name: Average Salary, dtype: float64"
      ]
     },
     "execution_count": 106,
     "metadata": {},
     "output_type": "execute_result"
    }
   ],
   "source": [
    "# Take a look at the train dataset\n",
    "X_train"
   ]
  },
  {
   "cell_type": "code",
   "execution_count": 107,
   "metadata": {},
   "outputs": [
    {
     "data": {
      "text/plain": [
       "21    30\n",
       "45    29\n",
       "0     88\n",
       "18    31\n",
       "12    39\n",
       "6     56\n",
       "47    28\n",
       "38    29\n",
       "60    20\n",
       "37    29\n",
       "35    29\n",
       "58    26\n",
       "46    28\n",
       "30    30\n",
       "66    12\n",
       "57    26\n",
       "41    29\n",
       "65    14\n",
       "62    18\n",
       "7     53\n",
       "3     58\n",
       "70     4\n",
       "50    28\n",
       "59    25\n",
       "19    30\n",
       "13    34\n",
       "1     81\n",
       "31    29\n",
       "4     57\n",
       "44    29\n",
       "27    30\n",
       "2     68\n",
       "22    30\n",
       "29    30\n",
       "9     45\n",
       "16    31\n",
       "43    29\n",
       "36    29\n",
       "15    33\n",
       "71     3\n",
       "69     4\n",
       "49    28\n",
       "34    29\n",
       "14    33\n",
       "53    28\n",
       "52    28\n",
       "10    45\n",
       "48    28\n",
       "67     9\n",
       "24    30\n",
       "8     49\n",
       "Name: Count of Jobs Listed, dtype: int64"
      ]
     },
     "execution_count": 107,
     "metadata": {},
     "output_type": "execute_result"
    }
   ],
   "source": [
    "y_train"
   ]
  },
  {
   "cell_type": "code",
   "execution_count": 108,
   "metadata": {},
   "outputs": [],
   "source": [
    "# Importing Statsmodels.api library from Stamodel package\n",
    "import statsmodels.api as sm\n",
    "\n",
    "# Adding a constant to get an intercept\n",
    "X_train_sm = sm.add_constant(X_train)"
   ]
  },
  {
   "cell_type": "code",
   "execution_count": 109,
   "metadata": {},
   "outputs": [
    {
     "data": {
      "text/plain": [
       "const             36.086128\n",
       "Average Salary    -0.000050\n",
       "dtype: float64"
      ]
     },
     "execution_count": 109,
     "metadata": {},
     "output_type": "execute_result"
    }
   ],
   "source": [
    "# Fitting the resgression line using 'OLS'\n",
    "lr = sm.OLS(y_train, X_train_sm).fit()\n",
    "\n",
    "# Printing the parameters\n",
    "lr.params"
   ]
  },
  {
   "cell_type": "code",
   "execution_count": 110,
   "metadata": {},
   "outputs": [
    {
     "data": {
      "text/html": [
       "<table class=\"simpletable\">\n",
       "<caption>OLS Regression Results</caption>\n",
       "<tr>\n",
       "  <th>Dep. Variable:</th>    <td>Count of Jobs Listed</td> <th>  R-squared:         </th> <td>   0.005</td>\n",
       "</tr>\n",
       "<tr>\n",
       "  <th>Model:</th>                     <td>OLS</td>         <th>  Adj. R-squared:    </th> <td>  -0.015</td>\n",
       "</tr>\n",
       "<tr>\n",
       "  <th>Method:</th>               <td>Least Squares</td>    <th>  F-statistic:       </th> <td>  0.2432</td>\n",
       "</tr>\n",
       "<tr>\n",
       "  <th>Date:</th>               <td>Sun, 27 Mar 2022</td>   <th>  Prob (F-statistic):</th>  <td> 0.624</td> \n",
       "</tr>\n",
       "<tr>\n",
       "  <th>Time:</th>                   <td>22:38:22</td>       <th>  Log-Likelihood:    </th> <td> -215.74</td>\n",
       "</tr>\n",
       "<tr>\n",
       "  <th>No. Observations:</th>        <td>    51</td>        <th>  AIC:               </th> <td>   435.5</td>\n",
       "</tr>\n",
       "<tr>\n",
       "  <th>Df Residuals:</th>            <td>    49</td>        <th>  BIC:               </th> <td>   439.3</td>\n",
       "</tr>\n",
       "<tr>\n",
       "  <th>Df Model:</th>                <td>     1</td>        <th>                     </th>     <td> </td>   \n",
       "</tr>\n",
       "<tr>\n",
       "  <th>Covariance Type:</th>        <td>nonrobust</td>      <th>                     </th>     <td> </td>   \n",
       "</tr>\n",
       "</table>\n",
       "<table class=\"simpletable\">\n",
       "<tr>\n",
       "         <td></td>           <th>coef</th>     <th>std err</th>      <th>t</th>      <th>P>|t|</th>  <th>[0.025</th>    <th>0.975]</th>  \n",
       "</tr>\n",
       "<tr>\n",
       "  <th>const</th>          <td>   36.0861</td> <td>    7.631</td> <td>    4.729</td> <td> 0.000</td> <td>   20.750</td> <td>   51.422</td>\n",
       "</tr>\n",
       "<tr>\n",
       "  <th>Average Salary</th> <td>-5.029e-05</td> <td>    0.000</td> <td>   -0.493</td> <td> 0.624</td> <td>   -0.000</td> <td>    0.000</td>\n",
       "</tr>\n",
       "</table>\n",
       "<table class=\"simpletable\">\n",
       "<tr>\n",
       "  <th>Omnibus:</th>       <td>16.562</td> <th>  Durbin-Watson:     </th> <td>   1.912</td>\n",
       "</tr>\n",
       "<tr>\n",
       "  <th>Prob(Omnibus):</th> <td> 0.000</td> <th>  Jarque-Bera (JB):  </th> <td>  21.890</td>\n",
       "</tr>\n",
       "<tr>\n",
       "  <th>Skew:</th>          <td> 1.136</td> <th>  Prob(JB):          </th> <td>1.76e-05</td>\n",
       "</tr>\n",
       "<tr>\n",
       "  <th>Kurtosis:</th>      <td> 5.268</td> <th>  Cond. No.          </th> <td>2.40e+05</td>\n",
       "</tr>\n",
       "</table><br/><br/>Notes:<br/>[1] Standard Errors assume that the covariance matrix of the errors is correctly specified.<br/>[2] The condition number is large, 2.4e+05. This might indicate that there are<br/>strong multicollinearity or other numerical problems."
      ],
      "text/plain": [
       "<class 'statsmodels.iolib.summary.Summary'>\n",
       "\"\"\"\n",
       "                             OLS Regression Results                             \n",
       "================================================================================\n",
       "Dep. Variable:     Count of Jobs Listed   R-squared:                       0.005\n",
       "Model:                              OLS   Adj. R-squared:                 -0.015\n",
       "Method:                   Least Squares   F-statistic:                    0.2432\n",
       "Date:                  Sun, 27 Mar 2022   Prob (F-statistic):              0.624\n",
       "Time:                          22:38:22   Log-Likelihood:                -215.74\n",
       "No. Observations:                    51   AIC:                             435.5\n",
       "Df Residuals:                        49   BIC:                             439.3\n",
       "Df Model:                             1                                         \n",
       "Covariance Type:              nonrobust                                         \n",
       "==================================================================================\n",
       "                     coef    std err          t      P>|t|      [0.025      0.975]\n",
       "----------------------------------------------------------------------------------\n",
       "const             36.0861      7.631      4.729      0.000      20.750      51.422\n",
       "Average Salary -5.029e-05      0.000     -0.493      0.624      -0.000       0.000\n",
       "==============================================================================\n",
       "Omnibus:                       16.562   Durbin-Watson:                   1.912\n",
       "Prob(Omnibus):                  0.000   Jarque-Bera (JB):               21.890\n",
       "Skew:                           1.136   Prob(JB):                     1.76e-05\n",
       "Kurtosis:                       5.268   Cond. No.                     2.40e+05\n",
       "==============================================================================\n",
       "\n",
       "Notes:\n",
       "[1] Standard Errors assume that the covariance matrix of the errors is correctly specified.\n",
       "[2] The condition number is large, 2.4e+05. This might indicate that there are\n",
       "strong multicollinearity or other numerical problems.\n",
       "\"\"\""
      ]
     },
     "execution_count": 110,
     "metadata": {},
     "output_type": "execute_result"
    }
   ],
   "source": [
    "# Performing a summary to list out all the different parameters of the regression line fitted\n",
    "lr.summary()"
   ]
  },
  {
   "cell_type": "code",
   "execution_count": 111,
   "metadata": {},
   "outputs": [
    {
     "data": {
      "image/png": "[encoded data removed]",
      "text/plain": [
       "<Figure size 432x288 with 1 Axes>"
      ]
     },
     "metadata": {
      "needs_background": "light"
     },
     "output_type": "display_data"
    }
   ],
   "source": [
    "# Visualizing the regression line\n",
    "plt.scatter(X_train, y_train)\n",
    "plt.plot(X_train, 6.948 + 0.054*X_train, 'r')\n",
    "plt.show()"
   ]
  },
  {
   "cell_type": "markdown",
   "metadata": {
    "azdata_cell_guid": "c021f50d-92b2-4359-b3a9-c47f62f0a94f"
   },
   "source": [
    "## Error Terms\n",
    "\n",
    "Finally, plot your error terms!"
   ]
  },
  {
   "cell_type": "code",
   "execution_count": 112,
   "metadata": {
    "azdata_cell_guid": "87480c6c-1bb6-4135-953a-c74ba3da518d"
   },
   "outputs": [],
   "source": [
    "# Predicting y_value using traingn data of X\n",
    "y_train_pred = lr.predict(X_train_sm)\n",
    "\n",
    "# Creating residuals from the y_train data and predicted y_data\n",
    "res = (y_train - y_train_pred)"
   ]
  },
  {
   "cell_type": "code",
   "execution_count": 113,
   "metadata": {},
   "outputs": [
    {
     "data": {
      "image/png": "[encoded data removed]",
      "text/plain": [
       "<Figure size 432x288 with 1 Axes>"
      ]
     },
     "metadata": {
      "needs_background": "light"
     },
     "output_type": "display_data"
    }
   ],
   "source": [
    "# Plotting the histogram using the residual values\n",
    "fig = plt.figure()\n",
    "sns.distplot(res, bins = 15)\n",
    "plt.title('Error Terms', fontsize = 15)\n",
    "plt.xlabel('y_train - y_train_pred', fontsize = 15)\n",
    "plt.show()"
   ]
  },
  {
   "cell_type": "code",
   "execution_count": 114,
   "metadata": {},
   "outputs": [
    {
     "data": {
      "image/png": "[encoded data removed]",
      "text/plain": [
       "<Figure size 432x288 with 1 Axes>"
      ]
     },
     "metadata": {
      "needs_background": "light"
     },
     "output_type": "display_data"
    }
   ],
   "source": [
    "# Looking for any patterns in the residuals\n",
    "plt.scatter(X_train,res)\n",
    "plt.show()"
   ]
  },
  {
   "cell_type": "markdown",
   "metadata": {
    "azdata_cell_guid": "5fc50d24-c873-4801-87f2-a1e518caf424"
   },
   "source": [
    "## Summarize Your Work\n",
    "\n",
    "Make notes of your answers to the questions below.\n",
    "\n",
    "1. What was your R-squared value? 0.005\n",
    "2. Based on your results, do you think a linear regression model was the best type of predictive analysis for your dataset? No\n",
    "3. Was your plot of the error terms a bell curve? No"
   ]
  }
 ],
 "metadata": {
  "kernelspec": {
   "display_name": "Python 3 (ipykernel)",
   "language": "python",
   "name": "python3"
  },
  "language_info": {
   "codemirror_mode": {
    "name": "ipython",
    "version": 3
   },
   "file_extension": ".py",
   "mimetype": "text/x-python",
   "name": "python",
   "nbconvert_exporter": "python",
   "pygments_lexer": "ipython3",
   "version": "3.9.7"
  }
 },
 "nbformat": 4,
 "nbformat_minor": 2
}
